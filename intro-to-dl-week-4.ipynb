{
 "cells": [
  {
   "cell_type": "code",
   "execution_count": 1,
   "id": "4d7e47f3",
   "metadata": {
    "_cell_guid": "b1076dfc-b9ad-4769-8c92-a6c4dae69d19",
    "_uuid": "8f2839f25d086af736a60e9eeb907d3b93b6e0e5",
    "execution": {
     "iopub.execute_input": "2022-12-04T01:00:41.165477Z",
     "iopub.status.busy": "2022-12-04T01:00:41.164246Z",
     "iopub.status.idle": "2022-12-04T01:00:41.175369Z",
     "shell.execute_reply": "2022-12-04T01:00:41.174502Z"
    },
    "papermill": {
     "duration": 0.026132,
     "end_time": "2022-12-04T01:00:41.177909",
     "exception": false,
     "start_time": "2022-12-04T01:00:41.151777",
     "status": "completed"
    },
    "tags": []
   },
   "outputs": [],
   "source": [
    "# This Python 3 environment comes with many helpful analytics libraries installed\n",
    "# It is defined by the kaggle/python Docker image: https://github.com/kaggle/docker-python\n",
    "# For example, here's several helpful packages to load\n",
    "\n",
    "import numpy as np # linear algebra\n",
    "import pandas as pd # data processing, CSV file I/O (e.g. pd.read_csv)\n",
    "\n",
    "# Input data files are available in the read-only \"../input/\" directory\n",
    "# For example, running this (by clicking run or pressing Shift+Enter) will list all files under the input directory\n",
    "\n",
    "# import os\n",
    "# for dirname, _, filenames in os.walk('/kaggle/input'):\n",
    "#     for filename in filenames:\n",
    "#         print(os.path.join(dirname, filename))\n",
    "\n",
    "# You can write up to 20GB to the current directory (/kaggle/working/) that gets preserved as output when you create a version using \"Save & Run All\" \n",
    "# You can also write temporary files to /kaggle/temp/, but they won't be saved outside of the current session"
   ]
  },
  {
   "cell_type": "code",
   "execution_count": 2,
   "id": "f10f481c",
   "metadata": {
    "execution": {
     "iopub.execute_input": "2022-12-04T01:00:41.197472Z",
     "iopub.status.busy": "2022-12-04T01:00:41.196775Z",
     "iopub.status.idle": "2022-12-04T01:00:53.766294Z",
     "shell.execute_reply": "2022-12-04T01:00:53.764968Z"
    },
    "papermill": {
     "duration": 12.582293,
     "end_time": "2022-12-04T01:00:53.769129",
     "exception": false,
     "start_time": "2022-12-04T01:00:41.186836",
     "status": "completed"
    },
    "tags": []
   },
   "outputs": [],
   "source": [
    "import pandas as pd\n",
    "%matplotlib inline\n",
    "import matplotlib.pyplot as plt\n",
    "import seaborn as sns\n",
    "import numpy as np\n",
    "import re, string\n",
    "import nltk\n",
    "import spacy"
   ]
  },
  {
   "cell_type": "markdown",
   "id": "393b8b1e",
   "metadata": {
    "papermill": {
     "duration": 0.007969,
     "end_time": "2022-12-04T01:00:53.785513",
     "exception": false,
     "start_time": "2022-12-04T01:00:53.777544",
     "status": "completed"
    },
    "tags": []
   },
   "source": [
    "## Introduction\n",
    "\n",
    "For this week's mini-project, we'll be completing the NLP with Disaster Tweets Project on Kaggle. In this data set there are tweets that at times have information on disasters that are occuring, and other times have harmless metaphors that use similar language. The example that they gave in the project brief is where a user wrote that the sky was \"ablaze\" during a sunset. For some models, this would suggest that the sky is literally on fire. Obviously, as humans we know that isn't the case, but in this week, we're trying to figure out if we can build a model that captures this use of language."
   ]
  },
  {
   "cell_type": "code",
   "execution_count": 3,
   "id": "b89ab1ef",
   "metadata": {
    "execution": {
     "iopub.execute_input": "2022-12-04T01:00:53.803825Z",
     "iopub.status.busy": "2022-12-04T01:00:53.803126Z",
     "iopub.status.idle": "2022-12-04T01:00:53.887192Z",
     "shell.execute_reply": "2022-12-04T01:00:53.885807Z"
    },
    "papermill": {
     "duration": 0.096895,
     "end_time": "2022-12-04T01:00:53.890541",
     "exception": false,
     "start_time": "2022-12-04T01:00:53.793646",
     "status": "completed"
    },
    "tags": []
   },
   "outputs": [
    {
     "data": {
      "text/html": [
       "<div>\n",
       "<style scoped>\n",
       "    .dataframe tbody tr th:only-of-type {\n",
       "        vertical-align: middle;\n",
       "    }\n",
       "\n",
       "    .dataframe tbody tr th {\n",
       "        vertical-align: top;\n",
       "    }\n",
       "\n",
       "    .dataframe thead th {\n",
       "        text-align: right;\n",
       "    }\n",
       "</style>\n",
       "<table border=\"1\" class=\"dataframe\">\n",
       "  <thead>\n",
       "    <tr style=\"text-align: right;\">\n",
       "      <th></th>\n",
       "      <th>id</th>\n",
       "      <th>keyword</th>\n",
       "      <th>location</th>\n",
       "      <th>text</th>\n",
       "      <th>target</th>\n",
       "    </tr>\n",
       "  </thead>\n",
       "  <tbody>\n",
       "    <tr>\n",
       "      <th>0</th>\n",
       "      <td>1</td>\n",
       "      <td>NaN</td>\n",
       "      <td>NaN</td>\n",
       "      <td>Our Deeds are the Reason of this #earthquake M...</td>\n",
       "      <td>1</td>\n",
       "    </tr>\n",
       "    <tr>\n",
       "      <th>1</th>\n",
       "      <td>4</td>\n",
       "      <td>NaN</td>\n",
       "      <td>NaN</td>\n",
       "      <td>Forest fire near La Ronge Sask. Canada</td>\n",
       "      <td>1</td>\n",
       "    </tr>\n",
       "    <tr>\n",
       "      <th>2</th>\n",
       "      <td>5</td>\n",
       "      <td>NaN</td>\n",
       "      <td>NaN</td>\n",
       "      <td>All residents asked to 'shelter in place' are ...</td>\n",
       "      <td>1</td>\n",
       "    </tr>\n",
       "    <tr>\n",
       "      <th>3</th>\n",
       "      <td>6</td>\n",
       "      <td>NaN</td>\n",
       "      <td>NaN</td>\n",
       "      <td>13,000 people receive #wildfires evacuation or...</td>\n",
       "      <td>1</td>\n",
       "    </tr>\n",
       "    <tr>\n",
       "      <th>4</th>\n",
       "      <td>7</td>\n",
       "      <td>NaN</td>\n",
       "      <td>NaN</td>\n",
       "      <td>Just got sent this photo from Ruby #Alaska as ...</td>\n",
       "      <td>1</td>\n",
       "    </tr>\n",
       "  </tbody>\n",
       "</table>\n",
       "</div>"
      ],
      "text/plain": [
       "   id keyword location                                               text  \\\n",
       "0   1     NaN      NaN  Our Deeds are the Reason of this #earthquake M...   \n",
       "1   4     NaN      NaN             Forest fire near La Ronge Sask. Canada   \n",
       "2   5     NaN      NaN  All residents asked to 'shelter in place' are ...   \n",
       "3   6     NaN      NaN  13,000 people receive #wildfires evacuation or...   \n",
       "4   7     NaN      NaN  Just got sent this photo from Ruby #Alaska as ...   \n",
       "\n",
       "   target  \n",
       "0       1  \n",
       "1       1  \n",
       "2       1  \n",
       "3       1  \n",
       "4       1  "
      ]
     },
     "execution_count": 3,
     "metadata": {},
     "output_type": "execute_result"
    }
   ],
   "source": [
    "train = pd.read_csv(\"../input/nlp-getting-started/train.csv\")\n",
    "test = pd.read_csv(\"../input/nlp-getting-started/test.csv\")\n",
    "train.head()"
   ]
  },
  {
   "cell_type": "markdown",
   "id": "b8a1b74f",
   "metadata": {
    "papermill": {
     "duration": 0.008118,
     "end_time": "2022-12-04T01:00:53.907251",
     "exception": false,
     "start_time": "2022-12-04T01:00:53.899133",
     "status": "completed"
    },
    "tags": []
   },
   "source": [
    "# EDA"
   ]
  },
  {
   "cell_type": "markdown",
   "id": "f0fa8cb3",
   "metadata": {
    "papermill": {
     "duration": 0.008048,
     "end_time": "2022-12-04T01:00:53.925354",
     "exception": false,
     "start_time": "2022-12-04T01:00:53.917306",
     "status": "completed"
    },
    "tags": []
   },
   "source": [
    "Now that the data sets have been loaded in, I'll look to explore the training set to see if the data is balanced, if any words need to be removed, and if there are any other cleaning steps that need to be done."
   ]
  },
  {
   "cell_type": "code",
   "execution_count": 4,
   "id": "ea47816a",
   "metadata": {
    "execution": {
     "iopub.execute_input": "2022-12-04T01:00:53.943946Z",
     "iopub.status.busy": "2022-12-04T01:00:53.943501Z",
     "iopub.status.idle": "2022-12-04T01:00:53.970024Z",
     "shell.execute_reply": "2022-12-04T01:00:53.968422Z"
    },
    "papermill": {
     "duration": 0.038885,
     "end_time": "2022-12-04T01:00:53.972665",
     "exception": false,
     "start_time": "2022-12-04T01:00:53.933780",
     "status": "completed"
    },
    "tags": []
   },
   "outputs": [
    {
     "name": "stdout",
     "output_type": "stream",
     "text": [
      "<class 'pandas.core.frame.DataFrame'>\n",
      "RangeIndex: 7613 entries, 0 to 7612\n",
      "Data columns (total 5 columns):\n",
      " #   Column    Non-Null Count  Dtype \n",
      "---  ------    --------------  ----- \n",
      " 0   id        7613 non-null   int64 \n",
      " 1   keyword   7552 non-null   object\n",
      " 2   location  5080 non-null   object\n",
      " 3   text      7613 non-null   object\n",
      " 4   target    7613 non-null   int64 \n",
      "dtypes: int64(2), object(3)\n",
      "memory usage: 297.5+ KB\n"
     ]
    }
   ],
   "source": [
    "train.info()"
   ]
  },
  {
   "cell_type": "code",
   "execution_count": 5,
   "id": "c90c8735",
   "metadata": {
    "execution": {
     "iopub.execute_input": "2022-12-04T01:00:53.992162Z",
     "iopub.status.busy": "2022-12-04T01:00:53.991748Z",
     "iopub.status.idle": "2022-12-04T01:00:54.244217Z",
     "shell.execute_reply": "2022-12-04T01:00:54.242912Z"
    },
    "papermill": {
     "duration": 0.265583,
     "end_time": "2022-12-04T01:00:54.247015",
     "exception": false,
     "start_time": "2022-12-04T01:00:53.981432",
     "status": "completed"
    },
    "tags": []
   },
   "outputs": [
    {
     "data": {
      "text/plain": [
       "<AxesSubplot:>"
      ]
     },
     "execution_count": 5,
     "metadata": {},
     "output_type": "execute_result"
    },
    {
     "data": {
      "image/png": "[encoded data removed]",
      "text/plain": [
       "<Figure size 432x288 with 1 Axes>"
      ]
     },
     "metadata": {
      "needs_background": "light"
     },
     "output_type": "display_data"
    }
   ],
   "source": [
    "train['target'].hist()"
   ]
  },
  {
   "cell_type": "markdown",
   "id": "8f39bc49",
   "metadata": {
    "papermill": {
     "duration": 0.008814,
     "end_time": "2022-12-04T01:00:54.264828",
     "exception": false,
     "start_time": "2022-12-04T01:00:54.256014",
     "status": "completed"
    },
    "tags": []
   },
   "source": [
    "Based on the training dataset, it looks like the data is indeed balanced in terms of those that are classified as disaster related or non-disaster related."
   ]
  },
  {
   "cell_type": "code",
   "execution_count": 6,
   "id": "8ce1d5a2",
   "metadata": {
    "execution": {
     "iopub.execute_input": "2022-12-04T01:00:54.284931Z",
     "iopub.status.busy": "2022-12-04T01:00:54.284412Z",
     "iopub.status.idle": "2022-12-04T01:00:54.291639Z",
     "shell.execute_reply": "2022-12-04T01:00:54.290134Z"
    },
    "papermill": {
     "duration": 0.019862,
     "end_time": "2022-12-04T01:00:54.293987",
     "exception": false,
     "start_time": "2022-12-04T01:00:54.274125",
     "status": "completed"
    },
    "tags": []
   },
   "outputs": [
    {
     "name": "stdout",
     "output_type": "stream",
     "text": [
      "Training # of Tweets: 7613\n",
      "Test # of Tweets: 3263\n",
      "Total Tweets: 10876\n"
     ]
    }
   ],
   "source": [
    "print(f\"Training # of Tweets: {len(train)}\")\n",
    "print(f\"Test # of Tweets: {len(test)}\")\n",
    "print(f\"Total Tweets: {len(train) + len(test)}\")"
   ]
  },
  {
   "cell_type": "code",
   "execution_count": 7,
   "id": "5b71bade",
   "metadata": {
    "execution": {
     "iopub.execute_input": "2022-12-04T01:00:54.315678Z",
     "iopub.status.busy": "2022-12-04T01:00:54.314401Z",
     "iopub.status.idle": "2022-12-04T01:00:54.322909Z",
     "shell.execute_reply": "2022-12-04T01:00:54.321635Z"
    },
    "papermill": {
     "duration": 0.022081,
     "end_time": "2022-12-04T01:00:54.326004",
     "exception": false,
     "start_time": "2022-12-04T01:00:54.303923",
     "status": "completed"
    },
    "tags": []
   },
   "outputs": [
    {
     "name": "stdout",
     "output_type": "stream",
     "text": [
      "id                                                       1860\n",
      "keyword                                                burned\n",
      "location                                         Chicago Area\n",
      "text        I joked about it but Wood has to be burned out...\n",
      "target                                                      0\n",
      "Name: 1288, dtype: object\n",
      "I joked about it but Wood has to be burned out from working so many innings so often. #CubsTalk\n"
     ]
    }
   ],
   "source": [
    "import random\n",
    "random_index = random.randint(0, len(train)-5)\n",
    "print(train.iloc[random_index])\n",
    "print(train['text'].iloc[random_index])"
   ]
  },
  {
   "cell_type": "markdown",
   "id": "712ced23",
   "metadata": {
    "papermill": {
     "duration": 0.00878,
     "end_time": "2022-12-04T01:00:54.344442",
     "exception": false,
     "start_time": "2022-12-04T01:00:54.335662",
     "status": "completed"
    },
    "tags": []
   },
   "source": [
    "From above, we see that we have a total of 10876 tweets to look at, with 7613 of them being in the training set. Looking at a random tweet, we can tell that there are certainly going to be stop words and punctuation. Before we create our models, we'll also need to tokenize the words in order to put the data into the model. In this case, I can utilize a tokenizer from tensor flow and standardize the data in that way, though I will go ahead and remove stop words now."
   ]
  },
  {
   "cell_type": "code",
   "execution_count": 8,
   "id": "885ec837",
   "metadata": {
    "execution": {
     "iopub.execute_input": "2022-12-04T01:00:54.364460Z",
     "iopub.status.busy": "2022-12-04T01:00:54.363772Z",
     "iopub.status.idle": "2022-12-04T01:00:54.821242Z",
     "shell.execute_reply": "2022-12-04T01:00:54.819565Z"
    },
    "papermill": {
     "duration": 0.470728,
     "end_time": "2022-12-04T01:00:54.824068",
     "exception": false,
     "start_time": "2022-12-04T01:00:54.353340",
     "status": "completed"
    },
    "tags": []
   },
   "outputs": [
    {
     "name": "stdout",
     "output_type": "stream",
     "text": [
      "(7613, 5)\n",
      "(3263, 4)\n"
     ]
    }
   ],
   "source": [
    "from nltk.corpus import stopwords\n",
    "stop = stopwords.words('english')\n",
    "\n",
    "train['text'] = train['text'].apply(lambda x: ' '.join([word for word in x.split() if word not in (stop)]))\n",
    "test['text'] = test['text'].apply(lambda x: ' '.join([word for word in x.split() if word not in (stop)]))\n",
    "\n",
    "print(train.shape)\n",
    "print(test.shape)"
   ]
  },
  {
   "cell_type": "code",
   "execution_count": 9,
   "id": "6d053758",
   "metadata": {
    "execution": {
     "iopub.execute_input": "2022-12-04T01:00:54.845183Z",
     "iopub.status.busy": "2022-12-04T01:00:54.844757Z",
     "iopub.status.idle": "2022-12-04T01:00:54.858435Z",
     "shell.execute_reply": "2022-12-04T01:00:54.857139Z"
    },
    "papermill": {
     "duration": 0.027297,
     "end_time": "2022-12-04T01:00:54.860896",
     "exception": false,
     "start_time": "2022-12-04T01:00:54.833599",
     "status": "completed"
    },
    "tags": []
   },
   "outputs": [
    {
     "data": {
      "text/html": [
       "<div>\n",
       "<style scoped>\n",
       "    .dataframe tbody tr th:only-of-type {\n",
       "        vertical-align: middle;\n",
       "    }\n",
       "\n",
       "    .dataframe tbody tr th {\n",
       "        vertical-align: top;\n",
       "    }\n",
       "\n",
       "    .dataframe thead th {\n",
       "        text-align: right;\n",
       "    }\n",
       "</style>\n",
       "<table border=\"1\" class=\"dataframe\">\n",
       "  <thead>\n",
       "    <tr style=\"text-align: right;\">\n",
       "      <th></th>\n",
       "      <th>id</th>\n",
       "      <th>keyword</th>\n",
       "      <th>location</th>\n",
       "      <th>text</th>\n",
       "      <th>target</th>\n",
       "    </tr>\n",
       "  </thead>\n",
       "  <tbody>\n",
       "    <tr>\n",
       "      <th>0</th>\n",
       "      <td>1</td>\n",
       "      <td>NaN</td>\n",
       "      <td>NaN</td>\n",
       "      <td>Our Deeds Reason #earthquake May ALLAH Forgive us</td>\n",
       "      <td>1</td>\n",
       "    </tr>\n",
       "    <tr>\n",
       "      <th>1</th>\n",
       "      <td>4</td>\n",
       "      <td>NaN</td>\n",
       "      <td>NaN</td>\n",
       "      <td>Forest fire near La Ronge Sask. Canada</td>\n",
       "      <td>1</td>\n",
       "    </tr>\n",
       "    <tr>\n",
       "      <th>2</th>\n",
       "      <td>5</td>\n",
       "      <td>NaN</td>\n",
       "      <td>NaN</td>\n",
       "      <td>All residents asked 'shelter place' notified o...</td>\n",
       "      <td>1</td>\n",
       "    </tr>\n",
       "    <tr>\n",
       "      <th>3</th>\n",
       "      <td>6</td>\n",
       "      <td>NaN</td>\n",
       "      <td>NaN</td>\n",
       "      <td>13,000 people receive #wildfires evacuation or...</td>\n",
       "      <td>1</td>\n",
       "    </tr>\n",
       "    <tr>\n",
       "      <th>4</th>\n",
       "      <td>7</td>\n",
       "      <td>NaN</td>\n",
       "      <td>NaN</td>\n",
       "      <td>Just got sent photo Ruby #Alaska smoke #wildfi...</td>\n",
       "      <td>1</td>\n",
       "    </tr>\n",
       "    <tr>\n",
       "      <th>5</th>\n",
       "      <td>8</td>\n",
       "      <td>NaN</td>\n",
       "      <td>NaN</td>\n",
       "      <td>#RockyFire Update =&gt; California Hwy. 20 closed...</td>\n",
       "      <td>1</td>\n",
       "    </tr>\n",
       "    <tr>\n",
       "      <th>6</th>\n",
       "      <td>10</td>\n",
       "      <td>NaN</td>\n",
       "      <td>NaN</td>\n",
       "      <td>#flood #disaster Heavy rain causes flash flood...</td>\n",
       "      <td>1</td>\n",
       "    </tr>\n",
       "    <tr>\n",
       "      <th>7</th>\n",
       "      <td>13</td>\n",
       "      <td>NaN</td>\n",
       "      <td>NaN</td>\n",
       "      <td>I'm top hill I see fire woods...</td>\n",
       "      <td>1</td>\n",
       "    </tr>\n",
       "    <tr>\n",
       "      <th>8</th>\n",
       "      <td>14</td>\n",
       "      <td>NaN</td>\n",
       "      <td>NaN</td>\n",
       "      <td>There's emergency evacuation happening buildin...</td>\n",
       "      <td>1</td>\n",
       "    </tr>\n",
       "    <tr>\n",
       "      <th>9</th>\n",
       "      <td>15</td>\n",
       "      <td>NaN</td>\n",
       "      <td>NaN</td>\n",
       "      <td>I'm afraid tornado coming area...</td>\n",
       "      <td>1</td>\n",
       "    </tr>\n",
       "  </tbody>\n",
       "</table>\n",
       "</div>"
      ],
      "text/plain": [
       "   id keyword location                                               text  \\\n",
       "0   1     NaN      NaN  Our Deeds Reason #earthquake May ALLAH Forgive us   \n",
       "1   4     NaN      NaN             Forest fire near La Ronge Sask. Canada   \n",
       "2   5     NaN      NaN  All residents asked 'shelter place' notified o...   \n",
       "3   6     NaN      NaN  13,000 people receive #wildfires evacuation or...   \n",
       "4   7     NaN      NaN  Just got sent photo Ruby #Alaska smoke #wildfi...   \n",
       "5   8     NaN      NaN  #RockyFire Update => California Hwy. 20 closed...   \n",
       "6  10     NaN      NaN  #flood #disaster Heavy rain causes flash flood...   \n",
       "7  13     NaN      NaN                   I'm top hill I see fire woods...   \n",
       "8  14     NaN      NaN  There's emergency evacuation happening buildin...   \n",
       "9  15     NaN      NaN                  I'm afraid tornado coming area...   \n",
       "\n",
       "   target  \n",
       "0       1  \n",
       "1       1  \n",
       "2       1  \n",
       "3       1  \n",
       "4       1  \n",
       "5       1  \n",
       "6       1  \n",
       "7       1  \n",
       "8       1  \n",
       "9       1  "
      ]
     },
     "execution_count": 9,
     "metadata": {},
     "output_type": "execute_result"
    }
   ],
   "source": [
    "train.head(10)"
   ]
  },
  {
   "cell_type": "markdown",
   "id": "2070c5e7",
   "metadata": {
    "papermill": {
     "duration": 0.009383,
     "end_time": "2022-12-04T01:00:54.880155",
     "exception": false,
     "start_time": "2022-12-04T01:00:54.870772",
     "status": "completed"
    },
    "tags": []
   },
   "source": [
    "## Model Architecture\n",
    "The way that I'm going to set up my model is to tokenize the data using the TextVectorization package from tensorflow, then feed that tokenized data into a GRU model, a variation on the LTSM. A GRU model, or Gated Recurrent Unit model, uses an update gate and a reset gate in order to decide which information is passed through to the output. GRU models are usually utilized in complex sentiment analysis, like this one. The main plus to GRU compared to the standard LTSM is the memory of the model, able to store things over time or ignore those features that are irrelevant to the output."
   ]
  },
  {
   "cell_type": "code",
   "execution_count": 10,
   "id": "ffa0b1d9",
   "metadata": {
    "execution": {
     "iopub.execute_input": "2022-12-04T01:00:54.901430Z",
     "iopub.status.busy": "2022-12-04T01:00:54.901024Z",
     "iopub.status.idle": "2022-12-04T01:00:54.910340Z",
     "shell.execute_reply": "2022-12-04T01:00:54.908939Z"
    },
    "papermill": {
     "duration": 0.023261,
     "end_time": "2022-12-04T01:00:54.913263",
     "exception": false,
     "start_time": "2022-12-04T01:00:54.890002",
     "status": "completed"
    },
    "tags": []
   },
   "outputs": [
    {
     "name": "stdout",
     "output_type": "stream",
     "text": [
      "(5709,)\n",
      "(1904,)\n",
      "(5709,)\n",
      "(1904,)\n"
     ]
    }
   ],
   "source": [
    "from sklearn.model_selection import train_test_split\n",
    "\n",
    "# Use train_test_split to split training data into training and validation sets\n",
    "X_train, X_val, y_train, y_val = train_test_split(train[\"text\"].to_numpy(),train[\"target\"].to_numpy(), random_state = 42)\n",
    "\n",
    "print(X_train.shape)\n",
    "print(X_val.shape)\n",
    "print(y_train.shape)\n",
    "print(y_val.shape)"
   ]
  },
  {
   "cell_type": "code",
   "execution_count": 11,
   "id": "599e42f6",
   "metadata": {
    "execution": {
     "iopub.execute_input": "2022-12-04T01:00:54.934166Z",
     "iopub.status.busy": "2022-12-04T01:00:54.933751Z",
     "iopub.status.idle": "2022-12-04T01:00:56.020385Z",
     "shell.execute_reply": "2022-12-04T01:00:56.019192Z"
    },
    "papermill": {
     "duration": 1.100381,
     "end_time": "2022-12-04T01:00:56.023496",
     "exception": false,
     "start_time": "2022-12-04T01:00:54.923115",
     "status": "completed"
    },
    "tags": []
   },
   "outputs": [],
   "source": [
    "import tensorflow as tf\n",
    "from tensorflow.keras.layers.experimental.preprocessing import TextVectorization"
   ]
  },
  {
   "cell_type": "code",
   "execution_count": 12,
   "id": "1c94c383",
   "metadata": {
    "execution": {
     "iopub.execute_input": "2022-12-04T01:00:56.046312Z",
     "iopub.status.busy": "2022-12-04T01:00:56.045872Z",
     "iopub.status.idle": "2022-12-04T01:00:56.550200Z",
     "shell.execute_reply": "2022-12-04T01:00:56.549026Z"
    },
    "papermill": {
     "duration": 0.519104,
     "end_time": "2022-12-04T01:00:56.552970",
     "exception": false,
     "start_time": "2022-12-04T01:00:56.033866",
     "status": "completed"
    },
    "tags": []
   },
   "outputs": [
    {
     "name": "stderr",
     "output_type": "stream",
     "text": [
      "2022-12-04 01:00:56.086598: I tensorflow/core/common_runtime/process_util.cc:146] Creating new thread pool with default inter op setting: 2. Tune using inter_op_parallelism_threads for best performance.\n",
      "2022-12-04 01:00:56.196251: I tensorflow/compiler/mlir/mlir_graph_optimization_pass.cc:185] None of the MLIR Optimization Passes are enabled (registered 2)\n"
     ]
    }
   ],
   "source": [
    "textVectorizer = TextVectorization(max_tokens=5000,\n",
    "                                    output_mode=\"int\",\n",
    "                                    output_sequence_length=20)\n",
    "textVectorizer.adapt(X_train)"
   ]
  },
  {
   "cell_type": "code",
   "execution_count": 13,
   "id": "9a9ff7e0",
   "metadata": {
    "execution": {
     "iopub.execute_input": "2022-12-04T01:00:56.578141Z",
     "iopub.status.busy": "2022-12-04T01:00:56.577706Z",
     "iopub.status.idle": "2022-12-04T01:00:56.597336Z",
     "shell.execute_reply": "2022-12-04T01:00:56.596013Z"
    },
    "papermill": {
     "duration": 0.03489,
     "end_time": "2022-12-04T01:00:56.600262",
     "exception": false,
     "start_time": "2022-12-04T01:00:56.565372",
     "status": "completed"
    },
    "tags": []
   },
   "outputs": [
    {
     "name": "stdout",
     "output_type": "stream",
     "text": [
      "['', '[UNK]', 'i', 'the', 'like', 'a', 'im', 'amp', 'fire', 'get']\n"
     ]
    }
   ],
   "source": [
    "vocab = textVectorizer.get_vocabulary()\n",
    "top10 = vocab[:10]\n",
    "print(top10)"
   ]
  },
  {
   "cell_type": "markdown",
   "id": "c17a9f0d",
   "metadata": {
    "papermill": {
     "duration": 0.009196,
     "end_time": "2022-12-04T01:00:56.619257",
     "exception": false,
     "start_time": "2022-12-04T01:00:56.610061",
     "status": "completed"
    },
    "tags": []
   },
   "source": [
    "From above, we can see that the top 10 words include \"fire\", \"get\", and \"[UNK]\". The last word \"[UNK]\" is the character used to describe any unknown word in the vocabulary. \n",
    "\n",
    "Now that the vectorizer has been set up, we need to set up layers for the GRU model."
   ]
  },
  {
   "cell_type": "code",
   "execution_count": 14,
   "id": "c22939b7",
   "metadata": {
    "execution": {
     "iopub.execute_input": "2022-12-04T01:00:56.640129Z",
     "iopub.status.busy": "2022-12-04T01:00:56.639668Z",
     "iopub.status.idle": "2022-12-04T01:00:56.968382Z",
     "shell.execute_reply": "2022-12-04T01:00:56.967283Z"
    },
    "papermill": {
     "duration": 0.342474,
     "end_time": "2022-12-04T01:00:56.971257",
     "exception": false,
     "start_time": "2022-12-04T01:00:56.628783",
     "status": "completed"
    },
    "tags": []
   },
   "outputs": [],
   "source": [
    "from tensorflow.keras import layers\n",
    "tf.random.set_seed(42)\n",
    "#Building Layers\n",
    "gruEmbedding = layers.Embedding(input_dim=5000,\n",
    "                                     output_dim=128,\n",
    "                                     embeddings_initializer=\"uniform\",\n",
    "                                     input_length=20,\n",
    "                                     name=\"embedding_gru\")\n",
    "\n",
    "inputs = layers.Input(shape=(1,), dtype=\"string\")\n",
    "x = textVectorizer(inputs)\n",
    "x = gruEmbedding(x)\n",
    "x = layers.GRU(64)(x) \n",
    "outputs = layers.Dense(1, activation=\"sigmoid\")(x)\n",
    "gruModel = tf.keras.Model(inputs, outputs, name=\"GRU_model\")\n",
    "#Compiling Model\n",
    "gruModel.compile(loss=\"binary_crossentropy\",\n",
    "                optimizer=tf.keras.optimizers.Adam(),\n",
    "                metrics=[\"accuracy\"])"
   ]
  },
  {
   "cell_type": "code",
   "execution_count": 15,
   "id": "e7ef04f2",
   "metadata": {
    "execution": {
     "iopub.execute_input": "2022-12-04T01:00:56.993689Z",
     "iopub.status.busy": "2022-12-04T01:00:56.992440Z",
     "iopub.status.idle": "2022-12-04T01:02:20.967466Z",
     "shell.execute_reply": "2022-12-04T01:02:20.966165Z"
    },
    "papermill": {
     "duration": 83.989103,
     "end_time": "2022-12-04T01:02:20.970541",
     "exception": false,
     "start_time": "2022-12-04T01:00:56.981438",
     "status": "completed"
    },
    "tags": []
   },
   "outputs": [
    {
     "name": "stdout",
     "output_type": "stream",
     "text": [
      "Epoch 1/10\n",
      "179/179 [==============================] - 9s 32ms/step - loss: 0.6199 - accuracy: 0.6388 - val_loss: 0.4724 - val_accuracy: 0.7931\n",
      "Epoch 2/10\n",
      "179/179 [==============================] - 5s 29ms/step - loss: 0.3865 - accuracy: 0.8380 - val_loss: 0.4377 - val_accuracy: 0.8083\n",
      "Epoch 3/10\n",
      "179/179 [==============================] - 5s 29ms/step - loss: 0.2896 - accuracy: 0.8900 - val_loss: 0.4754 - val_accuracy: 0.7952\n",
      "Epoch 4/10\n",
      "179/179 [==============================] - 6s 32ms/step - loss: 0.2305 - accuracy: 0.9157 - val_loss: 0.5569 - val_accuracy: 0.7799\n",
      "Epoch 5/10\n",
      "179/179 [==============================] - 5s 30ms/step - loss: 0.1878 - accuracy: 0.9357 - val_loss: 0.6303 - val_accuracy: 0.7710\n",
      "Epoch 6/10\n",
      "179/179 [==============================] - 5s 30ms/step - loss: 0.1509 - accuracy: 0.9483 - val_loss: 0.7855 - val_accuracy: 0.7505\n",
      "Epoch 7/10\n",
      "179/179 [==============================] - 5s 29ms/step - loss: 0.1140 - accuracy: 0.9595 - val_loss: 0.8064 - val_accuracy: 0.7558\n",
      "Epoch 8/10\n",
      "179/179 [==============================] - 5s 30ms/step - loss: 0.0873 - accuracy: 0.9655 - val_loss: 0.8003 - val_accuracy: 0.7642\n",
      "Epoch 9/10\n",
      "179/179 [==============================] - 5s 30ms/step - loss: 0.0752 - accuracy: 0.9686 - val_loss: 1.2039 - val_accuracy: 0.7489\n",
      "Epoch 10/10\n",
      "179/179 [==============================] - 6s 33ms/step - loss: 0.0730 - accuracy: 0.9699 - val_loss: 1.0478 - val_accuracy: 0.7479\n"
     ]
    }
   ],
   "source": [
    "#Actually fitting the model\n",
    "gruModelHist = gruModel.fit(X_train, y_train, epochs=10, validation_data=(X_val, y_val))"
   ]
  },
  {
   "cell_type": "code",
   "execution_count": 16,
   "id": "3db6bb87",
   "metadata": {
    "execution": {
     "iopub.execute_input": "2022-12-04T01:02:21.103853Z",
     "iopub.status.busy": "2022-12-04T01:02:21.103023Z",
     "iopub.status.idle": "2022-12-04T01:02:21.109894Z",
     "shell.execute_reply": "2022-12-04T01:02:21.108925Z"
    },
    "papermill": {
     "duration": 0.076117,
     "end_time": "2022-12-04T01:02:21.112331",
     "exception": false,
     "start_time": "2022-12-04T01:02:21.036214",
     "status": "completed"
    },
    "tags": []
   },
   "outputs": [],
   "source": [
    "#Helper function to create Validation/Training Plots via https://regenerativetoday.com/implementation-of-simplernn-gru-and-lstm-models-in-keras-and-tensorflow-for-an-nlp-project/\n",
    "import matplotlib.pyplot as plt\n",
    "def plot_graphs(history, string):\n",
    "    plt.plot(history.history[string])\n",
    "    plt.plot(history.history['val_'+string])\n",
    "    plt.xlabel(\"Epochs\")\n",
    "    plt.ylabel(string)\n",
    "    plt.legend([string, 'val_'+string])\n",
    "    plt.show()\n"
   ]
  },
  {
   "cell_type": "code",
   "execution_count": 17,
   "id": "68c0fdf7",
   "metadata": {
    "execution": {
     "iopub.execute_input": "2022-12-04T01:02:21.246822Z",
     "iopub.status.busy": "2022-12-04T01:02:21.245919Z",
     "iopub.status.idle": "2022-12-04T01:02:21.642853Z",
     "shell.execute_reply": "2022-12-04T01:02:21.641310Z"
    },
    "papermill": {
     "duration": 0.468291,
     "end_time": "2022-12-04T01:02:21.645601",
     "exception": false,
     "start_time": "2022-12-04T01:02:21.177310",
     "status": "completed"
    },
    "tags": []
   },
   "outputs": [
    {
     "data": {
      "image/png": "[encoded data removed]",
      "text/plain": [
       "<Figure size 432x288 with 1 Axes>"
      ]
     },
     "metadata": {
      "needs_background": "light"
     },
     "output_type": "display_data"
    },
    {
     "data": {
      "image/png": "[encoded data removed]",
      "text/plain": [
       "<Figure size 432x288 with 1 Axes>"
      ]
     },
     "metadata": {
      "needs_background": "light"
     },
     "output_type": "display_data"
    }
   ],
   "source": [
    "plot_graphs(gruModelHist, 'accuracy')\n",
    "plot_graphs(gruModelHist, 'loss')"
   ]
  },
  {
   "cell_type": "code",
   "execution_count": 18,
   "id": "8b0c2bb5",
   "metadata": {
    "execution": {
     "iopub.execute_input": "2022-12-04T01:02:21.777802Z",
     "iopub.status.busy": "2022-12-04T01:02:21.777371Z",
     "iopub.status.idle": "2022-12-04T01:02:22.931678Z",
     "shell.execute_reply": "2022-12-04T01:02:22.930441Z"
    },
    "papermill": {
     "duration": 1.224209,
     "end_time": "2022-12-04T01:02:22.934282",
     "exception": false,
     "start_time": "2022-12-04T01:02:21.710073",
     "status": "completed"
    },
    "tags": []
   },
   "outputs": [
    {
     "data": {
      "text/plain": [
       "<tf.Tensor: shape=(10,), dtype=float32, numpy=array([0., 1., 1., 0., 1., 0., 0., 1., 1., 1.], dtype=float32)>"
      ]
     },
     "execution_count": 18,
     "metadata": {},
     "output_type": "execute_result"
    }
   ],
   "source": [
    "gruModelPredProbs = gruModel.predict(X_val)\n",
    "gruModelPred = tf.squeeze(tf.round(gruModelPredProbs))\n",
    "gruModelPred[:10]"
   ]
  },
  {
   "cell_type": "code",
   "execution_count": 19,
   "id": "895a36a6",
   "metadata": {
    "execution": {
     "iopub.execute_input": "2022-12-04T01:02:23.078889Z",
     "iopub.status.busy": "2022-12-04T01:02:23.078279Z",
     "iopub.status.idle": "2022-12-04T01:02:23.086394Z",
     "shell.execute_reply": "2022-12-04T01:02:23.085155Z"
    },
    "papermill": {
     "duration": 0.086241,
     "end_time": "2022-12-04T01:02:23.088617",
     "exception": false,
     "start_time": "2022-12-04T01:02:23.002376",
     "status": "completed"
    },
    "tags": []
   },
   "outputs": [
    {
     "name": "stdout",
     "output_type": "stream",
     "text": [
      "0.7478991596638656\n"
     ]
    }
   ],
   "source": [
    "from sklearn.metrics import accuracy_score\n",
    "\n",
    "acc = accuracy_score(y_val, gruModelPred)\n",
    "print(acc)"
   ]
  },
  {
   "cell_type": "markdown",
   "id": "4b8f948a",
   "metadata": {
    "papermill": {
     "duration": 0.068065,
     "end_time": "2022-12-04T01:02:23.225325",
     "exception": false,
     "start_time": "2022-12-04T01:02:23.157260",
     "status": "completed"
    },
    "tags": []
   },
   "source": [
    "So, after the model has been created and ran, the overall accuracy was 76.1%. In the next section, I will tune hyper-parameters and look to find the best possible model for submission."
   ]
  },
  {
   "cell_type": "markdown",
   "id": "cf1cbf58",
   "metadata": {
    "papermill": {
     "duration": 0.06524,
     "end_time": "2022-12-04T01:02:23.356694",
     "exception": false,
     "start_time": "2022-12-04T01:02:23.291454",
     "status": "completed"
    },
    "tags": []
   },
   "source": [
    "## Results and Analysis"
   ]
  },
  {
   "cell_type": "code",
   "execution_count": 20,
   "id": "f82ebabc",
   "metadata": {
    "execution": {
     "iopub.execute_input": "2022-12-04T01:02:23.494247Z",
     "iopub.status.busy": "2022-12-04T01:02:23.493498Z",
     "iopub.status.idle": "2022-12-04T01:02:23.536578Z",
     "shell.execute_reply": "2022-12-04T01:02:23.534550Z"
    },
    "papermill": {
     "duration": 0.121664,
     "end_time": "2022-12-04T01:02:23.543901",
     "exception": false,
     "start_time": "2022-12-04T01:02:23.422237",
     "status": "completed"
    },
    "tags": []
   },
   "outputs": [],
   "source": [
    "tf.random.set_seed(42)\n",
    "\n",
    "def hyperTest(input_dim, input_len):\n",
    "    gruEmbedding = layers.Embedding(input_dim=input_dim,\n",
    "                                     output_dim=128,\n",
    "                                     embeddings_initializer=\"uniform\",\n",
    "                                     input_length=input_len,\n",
    "                                     name=\"embedding_gru\")\n",
    "\n",
    "    inputs = layers.Input(shape=(1,), dtype=\"string\")\n",
    "    x = textVectorizer(inputs)\n",
    "    x = gruEmbedding(x)\n",
    "    x = layers.GRU(64)(x) \n",
    "    outputs = layers.Dense(1, activation=\"sigmoid\")(x)\n",
    "    name = \"gruModel\" +str(input_dim) +str(input_len)\n",
    "    gruModel = tf.keras.Model(inputs, outputs, name = name)\n",
    "    gruModel.compile(loss=\"binary_crossentropy\",\n",
    "                optimizer=tf.keras.optimizers.Adam(),\n",
    "                metrics=[\"accuracy\"])\n",
    "    gruModelHist = gruModel.fit(X_train, y_train, epochs=10, validation_data=(X_val, y_val))\n",
    "    gruModelPredProbs = gruModel.predict(X_val)\n",
    "    gruModelPred = tf.squeeze(tf.round(gruModelPredProbs))\n",
    "    return [input_dim, input_len, accuracy_score(y_val, gruModelPred)]\n",
    "\n"
   ]
  },
  {
   "cell_type": "code",
   "execution_count": 21,
   "id": "8e4593c0",
   "metadata": {
    "execution": {
     "iopub.execute_input": "2022-12-04T01:02:23.703377Z",
     "iopub.status.busy": "2022-12-04T01:02:23.702831Z",
     "iopub.status.idle": "2022-12-04T01:12:13.534680Z",
     "shell.execute_reply": "2022-12-04T01:12:13.533411Z"
    },
    "papermill": {
     "duration": 589.908647,
     "end_time": "2022-12-04T01:12:13.537580",
     "exception": false,
     "start_time": "2022-12-04T01:02:23.628933",
     "status": "completed"
    },
    "tags": []
   },
   "outputs": [
    {
     "name": "stdout",
     "output_type": "stream",
     "text": [
      "Epoch 1/10\n",
      "179/179 [==============================] - 9s 33ms/step - loss: 0.6199 - accuracy: 0.6388 - val_loss: 0.4724 - val_accuracy: 0.7931\n",
      "Epoch 2/10\n",
      "179/179 [==============================] - 5s 30ms/step - loss: 0.3865 - accuracy: 0.8380 - val_loss: 0.4377 - val_accuracy: 0.8083\n",
      "Epoch 3/10\n",
      "179/179 [==============================] - 5s 29ms/step - loss: 0.2896 - accuracy: 0.8900 - val_loss: 0.4754 - val_accuracy: 0.7952\n",
      "Epoch 4/10\n",
      "179/179 [==============================] - 5s 30ms/step - loss: 0.2305 - accuracy: 0.9157 - val_loss: 0.5569 - val_accuracy: 0.7799\n",
      "Epoch 5/10\n",
      "179/179 [==============================] - 5s 30ms/step - loss: 0.1878 - accuracy: 0.9357 - val_loss: 0.6303 - val_accuracy: 0.7710\n",
      "Epoch 6/10\n",
      "179/179 [==============================] - 6s 33ms/step - loss: 0.1509 - accuracy: 0.9483 - val_loss: 0.7855 - val_accuracy: 0.7505\n",
      "Epoch 7/10\n",
      "179/179 [==============================] - 5s 29ms/step - loss: 0.1140 - accuracy: 0.9595 - val_loss: 0.8064 - val_accuracy: 0.7558\n",
      "Epoch 8/10\n",
      "179/179 [==============================] - 5s 30ms/step - loss: 0.0873 - accuracy: 0.9655 - val_loss: 0.8003 - val_accuracy: 0.7642\n",
      "Epoch 9/10\n",
      "179/179 [==============================] - 5s 29ms/step - loss: 0.0752 - accuracy: 0.9686 - val_loss: 1.2039 - val_accuracy: 0.7489\n",
      "Epoch 10/10\n",
      "179/179 [==============================] - 5s 30ms/step - loss: 0.0730 - accuracy: 0.9699 - val_loss: 1.0478 - val_accuracy: 0.7479\n",
      "Epoch 1/10\n",
      "179/179 [==============================] - 9s 37ms/step - loss: 0.6284 - accuracy: 0.6259 - val_loss: 0.4780 - val_accuracy: 0.7931\n",
      "Epoch 2/10\n",
      "179/179 [==============================] - 5s 30ms/step - loss: 0.3945 - accuracy: 0.8341 - val_loss: 0.4357 - val_accuracy: 0.8120\n",
      "Epoch 3/10\n",
      "179/179 [==============================] - 5s 30ms/step - loss: 0.2940 - accuracy: 0.8846 - val_loss: 0.4724 - val_accuracy: 0.7967\n",
      "Epoch 4/10\n",
      "179/179 [==============================] - 5s 30ms/step - loss: 0.2318 - accuracy: 0.9126 - val_loss: 0.5419 - val_accuracy: 0.7847\n",
      "Epoch 5/10\n",
      "179/179 [==============================] - 5s 30ms/step - loss: 0.1874 - accuracy: 0.9320 - val_loss: 0.6427 - val_accuracy: 0.7778\n",
      "Epoch 6/10\n",
      "179/179 [==============================] - 6s 33ms/step - loss: 0.1490 - accuracy: 0.9466 - val_loss: 0.7818 - val_accuracy: 0.7568\n",
      "Epoch 7/10\n",
      "179/179 [==============================] - 5s 30ms/step - loss: 0.1100 - accuracy: 0.9597 - val_loss: 0.8984 - val_accuracy: 0.7637\n",
      "Epoch 8/10\n",
      "179/179 [==============================] - 5s 30ms/step - loss: 0.0896 - accuracy: 0.9653 - val_loss: 0.8678 - val_accuracy: 0.7553\n",
      "Epoch 9/10\n",
      "179/179 [==============================] - 5s 29ms/step - loss: 0.0722 - accuracy: 0.9693 - val_loss: 1.1946 - val_accuracy: 0.7479\n",
      "Epoch 10/10\n",
      "179/179 [==============================] - 5s 29ms/step - loss: 0.0666 - accuracy: 0.9702 - val_loss: 1.3236 - val_accuracy: 0.7489\n",
      "Epoch 1/10\n",
      "179/179 [==============================] - 9s 35ms/step - loss: 0.6295 - accuracy: 0.6262 - val_loss: 0.4830 - val_accuracy: 0.7826\n",
      "Epoch 2/10\n",
      "179/179 [==============================] - 5s 30ms/step - loss: 0.3946 - accuracy: 0.8318 - val_loss: 0.4376 - val_accuracy: 0.8072\n",
      "Epoch 3/10\n",
      "179/179 [==============================] - 5s 30ms/step - loss: 0.2925 - accuracy: 0.8837 - val_loss: 0.4723 - val_accuracy: 0.7946\n",
      "Epoch 4/10\n",
      "179/179 [==============================] - 5s 29ms/step - loss: 0.2317 - accuracy: 0.9140 - val_loss: 0.5437 - val_accuracy: 0.7805\n",
      "Epoch 5/10\n",
      "179/179 [==============================] - 5s 30ms/step - loss: 0.1883 - accuracy: 0.9312 - val_loss: 0.6334 - val_accuracy: 0.7752\n",
      "Epoch 6/10\n",
      "179/179 [==============================] - 5s 30ms/step - loss: 0.1476 - accuracy: 0.9476 - val_loss: 0.8254 - val_accuracy: 0.7458\n",
      "Epoch 7/10\n",
      "179/179 [==============================] - 6s 33ms/step - loss: 0.1066 - accuracy: 0.9611 - val_loss: 0.9275 - val_accuracy: 0.7605\n",
      "Epoch 8/10\n",
      "179/179 [==============================] - 5s 30ms/step - loss: 0.0773 - accuracy: 0.9667 - val_loss: 0.8961 - val_accuracy: 0.7542\n",
      "Epoch 9/10\n",
      "179/179 [==============================] - 5s 29ms/step - loss: 0.0706 - accuracy: 0.9688 - val_loss: 1.1482 - val_accuracy: 0.7526\n",
      "Epoch 10/10\n",
      "179/179 [==============================] - 5s 28ms/step - loss: 0.0714 - accuracy: 0.9693 - val_loss: 1.0892 - val_accuracy: 0.7526\n",
      "Epoch 1/10\n",
      "179/179 [==============================] - 10s 39ms/step - loss: 0.6115 - accuracy: 0.6486 - val_loss: 0.4650 - val_accuracy: 0.7931\n",
      "Epoch 2/10\n",
      "179/179 [==============================] - 6s 36ms/step - loss: 0.3828 - accuracy: 0.8397 - val_loss: 0.4420 - val_accuracy: 0.7988\n",
      "Epoch 3/10\n",
      "179/179 [==============================] - 6s 32ms/step - loss: 0.2870 - accuracy: 0.8905 - val_loss: 0.4718 - val_accuracy: 0.7983\n",
      "Epoch 4/10\n",
      "179/179 [==============================] - 6s 32ms/step - loss: 0.2314 - accuracy: 0.9143 - val_loss: 0.5521 - val_accuracy: 0.7820\n",
      "Epoch 5/10\n",
      "179/179 [==============================] - 6s 32ms/step - loss: 0.1902 - accuracy: 0.9347 - val_loss: 0.6065 - val_accuracy: 0.7715\n",
      "Epoch 6/10\n",
      "179/179 [==============================] - 6s 32ms/step - loss: 0.1592 - accuracy: 0.9490 - val_loss: 0.7900 - val_accuracy: 0.7516\n",
      "Epoch 7/10\n",
      "179/179 [==============================] - 6s 35ms/step - loss: 0.1249 - accuracy: 0.9585 - val_loss: 0.6784 - val_accuracy: 0.7647\n",
      "Epoch 8/10\n",
      "179/179 [==============================] - 6s 32ms/step - loss: 0.1016 - accuracy: 0.9653 - val_loss: 0.7532 - val_accuracy: 0.7658\n",
      "Epoch 9/10\n",
      "179/179 [==============================] - 6s 32ms/step - loss: 0.0817 - accuracy: 0.9700 - val_loss: 1.0061 - val_accuracy: 0.7484\n",
      "Epoch 10/10\n",
      "179/179 [==============================] - 6s 32ms/step - loss: 0.0666 - accuracy: 0.9743 - val_loss: 1.0472 - val_accuracy: 0.7558\n",
      "Epoch 1/10\n",
      "179/179 [==============================] - 9s 36ms/step - loss: 0.6157 - accuracy: 0.6499 - val_loss: 0.4755 - val_accuracy: 0.7931\n",
      "Epoch 2/10\n",
      "179/179 [==============================] - 6s 35ms/step - loss: 0.3868 - accuracy: 0.8357 - val_loss: 0.4376 - val_accuracy: 0.8072\n",
      "Epoch 3/10\n",
      "179/179 [==============================] - 6s 32ms/step - loss: 0.2922 - accuracy: 0.8902 - val_loss: 0.4689 - val_accuracy: 0.7973\n",
      "Epoch 4/10\n",
      "179/179 [==============================] - 6s 32ms/step - loss: 0.2327 - accuracy: 0.9149 - val_loss: 0.5371 - val_accuracy: 0.7789\n",
      "Epoch 5/10\n",
      "179/179 [==============================] - 6s 32ms/step - loss: 0.1883 - accuracy: 0.9345 - val_loss: 0.6558 - val_accuracy: 0.7689\n",
      "Epoch 6/10\n",
      "179/179 [==============================] - 6s 32ms/step - loss: 0.1459 - accuracy: 0.9497 - val_loss: 0.7569 - val_accuracy: 0.7584\n",
      "Epoch 7/10\n",
      "179/179 [==============================] - 6s 35ms/step - loss: 0.1143 - accuracy: 0.9560 - val_loss: 0.9455 - val_accuracy: 0.7584\n",
      "Epoch 8/10\n",
      "179/179 [==============================] - 6s 32ms/step - loss: 0.0932 - accuracy: 0.9618 - val_loss: 0.8260 - val_accuracy: 0.7663\n",
      "Epoch 9/10\n",
      "179/179 [==============================] - 6s 32ms/step - loss: 0.0753 - accuracy: 0.9672 - val_loss: 1.0225 - val_accuracy: 0.7489\n",
      "Epoch 10/10\n",
      "179/179 [==============================] - 6s 34ms/step - loss: 0.0739 - accuracy: 0.9685 - val_loss: 1.2814 - val_accuracy: 0.7474\n",
      "Epoch 1/10\n",
      "179/179 [==============================] - 9s 36ms/step - loss: 0.6274 - accuracy: 0.6320 - val_loss: 0.4587 - val_accuracy: 0.7983\n",
      "Epoch 2/10\n",
      "179/179 [==============================] - 6s 31ms/step - loss: 0.3947 - accuracy: 0.8362 - val_loss: 0.4372 - val_accuracy: 0.8072\n",
      "Epoch 3/10\n",
      "179/179 [==============================] - 6s 34ms/step - loss: 0.2925 - accuracy: 0.8861 - val_loss: 0.4682 - val_accuracy: 0.8020\n",
      "Epoch 4/10\n",
      "179/179 [==============================] - 6s 33ms/step - loss: 0.2321 - accuracy: 0.9159 - val_loss: 0.5428 - val_accuracy: 0.7831\n",
      "Epoch 5/10\n",
      "179/179 [==============================] - 6s 32ms/step - loss: 0.1877 - accuracy: 0.9324 - val_loss: 0.6638 - val_accuracy: 0.7710\n",
      "Epoch 6/10\n",
      "179/179 [==============================] - 6s 32ms/step - loss: 0.1443 - accuracy: 0.9489 - val_loss: 0.8577 - val_accuracy: 0.7484\n",
      "Epoch 7/10\n",
      "179/179 [==============================] - 6s 31ms/step - loss: 0.1086 - accuracy: 0.9576 - val_loss: 0.8801 - val_accuracy: 0.7642\n",
      "Epoch 8/10\n",
      "179/179 [==============================] - 6s 32ms/step - loss: 0.0853 - accuracy: 0.9641 - val_loss: 0.9633 - val_accuracy: 0.7542\n",
      "Epoch 9/10\n",
      "179/179 [==============================] - 6s 35ms/step - loss: 0.0797 - accuracy: 0.9667 - val_loss: 0.9769 - val_accuracy: 0.7621\n",
      "Epoch 10/10\n",
      "179/179 [==============================] - 6s 32ms/step - loss: 0.0702 - accuracy: 0.9711 - val_loss: 1.0915 - val_accuracy: 0.7563\n",
      "Epoch 1/10\n",
      "179/179 [==============================] - 9s 37ms/step - loss: 0.6210 - accuracy: 0.6406 - val_loss: 0.4683 - val_accuracy: 0.7925\n",
      "Epoch 2/10\n",
      "179/179 [==============================] - 6s 34ms/step - loss: 0.3883 - accuracy: 0.8355 - val_loss: 0.4356 - val_accuracy: 0.8157\n",
      "Epoch 3/10\n",
      "179/179 [==============================] - 7s 37ms/step - loss: 0.2916 - accuracy: 0.8882 - val_loss: 0.4683 - val_accuracy: 0.8009\n",
      "Epoch 4/10\n",
      "179/179 [==============================] - 6s 34ms/step - loss: 0.2316 - accuracy: 0.9157 - val_loss: 0.5405 - val_accuracy: 0.7784\n",
      "Epoch 5/10\n",
      "179/179 [==============================] - 6s 34ms/step - loss: 0.1881 - accuracy: 0.9354 - val_loss: 0.6056 - val_accuracy: 0.7700\n",
      "Epoch 6/10\n",
      "179/179 [==============================] - 6s 34ms/step - loss: 0.1493 - accuracy: 0.9501 - val_loss: 0.7734 - val_accuracy: 0.7516\n",
      "Epoch 7/10\n",
      "179/179 [==============================] - 6s 34ms/step - loss: 0.1088 - accuracy: 0.9630 - val_loss: 0.8604 - val_accuracy: 0.7715\n",
      "Epoch 8/10\n",
      "179/179 [==============================] - 6s 36ms/step - loss: 0.0792 - accuracy: 0.9672 - val_loss: 0.8964 - val_accuracy: 0.7616\n",
      "Epoch 9/10\n",
      "179/179 [==============================] - 6s 34ms/step - loss: 0.0661 - accuracy: 0.9721 - val_loss: 1.0840 - val_accuracy: 0.7532\n",
      "Epoch 10/10\n",
      "179/179 [==============================] - 6s 35ms/step - loss: 0.0677 - accuracy: 0.9697 - val_loss: 1.2604 - val_accuracy: 0.7463\n",
      "Epoch 1/10\n",
      "179/179 [==============================] - 10s 38ms/step - loss: 0.6280 - accuracy: 0.6267 - val_loss: 0.4753 - val_accuracy: 0.7925\n",
      "Epoch 2/10\n",
      "179/179 [==============================] - 6s 34ms/step - loss: 0.3924 - accuracy: 0.8336 - val_loss: 0.4347 - val_accuracy: 0.8109\n",
      "Epoch 3/10\n",
      "179/179 [==============================] - 7s 38ms/step - loss: 0.2913 - accuracy: 0.8854 - val_loss: 0.4706 - val_accuracy: 0.7957\n",
      "Epoch 4/10\n",
      "179/179 [==============================] - 6s 36ms/step - loss: 0.2295 - accuracy: 0.9152 - val_loss: 0.5490 - val_accuracy: 0.7778\n",
      "Epoch 5/10\n",
      "179/179 [==============================] - 6s 35ms/step - loss: 0.1844 - accuracy: 0.9336 - val_loss: 0.6258 - val_accuracy: 0.7637\n",
      "Epoch 6/10\n",
      "179/179 [==============================] - 6s 35ms/step - loss: 0.1448 - accuracy: 0.9492 - val_loss: 0.7839 - val_accuracy: 0.7516\n",
      "Epoch 7/10\n",
      "179/179 [==============================] - 6s 34ms/step - loss: 0.1074 - accuracy: 0.9622 - val_loss: 0.8643 - val_accuracy: 0.7700\n",
      "Epoch 8/10\n",
      "179/179 [==============================] - 7s 38ms/step - loss: 0.0790 - accuracy: 0.9676 - val_loss: 1.0571 - val_accuracy: 0.7479\n",
      "Epoch 9/10\n",
      "179/179 [==============================] - 6s 35ms/step - loss: 0.0745 - accuracy: 0.9674 - val_loss: 1.0312 - val_accuracy: 0.7458\n",
      "Epoch 10/10\n",
      "179/179 [==============================] - 6s 34ms/step - loss: 0.0585 - accuracy: 0.9725 - val_loss: 1.2267 - val_accuracy: 0.7563\n",
      "Epoch 1/10\n",
      "179/179 [==============================] - 9s 37ms/step - loss: 0.6169 - accuracy: 0.6432 - val_loss: 0.4720 - val_accuracy: 0.7931\n",
      "Epoch 2/10\n",
      "179/179 [==============================] - 7s 37ms/step - loss: 0.3863 - accuracy: 0.8380 - val_loss: 0.4355 - val_accuracy: 0.8141\n",
      "Epoch 3/10\n",
      "179/179 [==============================] - 6s 35ms/step - loss: 0.2908 - accuracy: 0.8903 - val_loss: 0.4720 - val_accuracy: 0.7973\n",
      "Epoch 4/10\n",
      "179/179 [==============================] - 6s 35ms/step - loss: 0.2317 - accuracy: 0.9145 - val_loss: 0.5347 - val_accuracy: 0.7773\n",
      "Epoch 5/10\n",
      "179/179 [==============================] - 6s 35ms/step - loss: 0.1886 - accuracy: 0.9334 - val_loss: 0.6488 - val_accuracy: 0.7694\n",
      "Epoch 6/10\n",
      "179/179 [==============================] - 6s 35ms/step - loss: 0.1495 - accuracy: 0.9490 - val_loss: 0.8261 - val_accuracy: 0.7500\n",
      "Epoch 7/10\n",
      "179/179 [==============================] - 7s 37ms/step - loss: 0.1166 - accuracy: 0.9585 - val_loss: 0.8438 - val_accuracy: 0.7579\n",
      "Epoch 8/10\n",
      "179/179 [==============================] - 6s 35ms/step - loss: 0.0939 - accuracy: 0.9646 - val_loss: 0.7087 - val_accuracy: 0.7563\n",
      "Epoch 9/10\n",
      "179/179 [==============================] - 6s 34ms/step - loss: 0.0786 - accuracy: 0.9676 - val_loss: 0.9661 - val_accuracy: 0.7731\n",
      "Epoch 10/10\n",
      "179/179 [==============================] - 6s 34ms/step - loss: 0.0711 - accuracy: 0.9683 - val_loss: 1.0712 - val_accuracy: 0.7600\n"
     ]
    },
    {
     "data": {
      "text/html": [
       "<div>\n",
       "<style scoped>\n",
       "    .dataframe tbody tr th:only-of-type {\n",
       "        vertical-align: middle;\n",
       "    }\n",
       "\n",
       "    .dataframe tbody tr th {\n",
       "        vertical-align: top;\n",
       "    }\n",
       "\n",
       "    .dataframe thead th {\n",
       "        text-align: right;\n",
       "    }\n",
       "</style>\n",
       "<table border=\"1\" class=\"dataframe\">\n",
       "  <thead>\n",
       "    <tr style=\"text-align: right;\">\n",
       "      <th></th>\n",
       "      <th>dim</th>\n",
       "      <th>len</th>\n",
       "      <th>acc</th>\n",
       "    </tr>\n",
       "  </thead>\n",
       "  <tbody>\n",
       "    <tr>\n",
       "      <th>0</th>\n",
       "      <td>5000.0</td>\n",
       "      <td>5.0</td>\n",
       "      <td>0.747899</td>\n",
       "    </tr>\n",
       "    <tr>\n",
       "      <th>1</th>\n",
       "      <td>5000.0</td>\n",
       "      <td>15.0</td>\n",
       "      <td>0.748950</td>\n",
       "    </tr>\n",
       "    <tr>\n",
       "      <th>2</th>\n",
       "      <td>5000.0</td>\n",
       "      <td>25.0</td>\n",
       "      <td>0.752626</td>\n",
       "    </tr>\n",
       "    <tr>\n",
       "      <th>3</th>\n",
       "      <td>7500.0</td>\n",
       "      <td>5.0</td>\n",
       "      <td>0.755777</td>\n",
       "    </tr>\n",
       "    <tr>\n",
       "      <th>4</th>\n",
       "      <td>7500.0</td>\n",
       "      <td>15.0</td>\n",
       "      <td>0.747374</td>\n",
       "    </tr>\n",
       "    <tr>\n",
       "      <th>5</th>\n",
       "      <td>7500.0</td>\n",
       "      <td>25.0</td>\n",
       "      <td>0.756303</td>\n",
       "    </tr>\n",
       "    <tr>\n",
       "      <th>6</th>\n",
       "      <td>10000.0</td>\n",
       "      <td>5.0</td>\n",
       "      <td>0.746324</td>\n",
       "    </tr>\n",
       "    <tr>\n",
       "      <th>7</th>\n",
       "      <td>10000.0</td>\n",
       "      <td>15.0</td>\n",
       "      <td>0.756303</td>\n",
       "    </tr>\n",
       "    <tr>\n",
       "      <th>8</th>\n",
       "      <td>10000.0</td>\n",
       "      <td>25.0</td>\n",
       "      <td>0.759979</td>\n",
       "    </tr>\n",
       "  </tbody>\n",
       "</table>\n",
       "</div>"
      ],
      "text/plain": [
       "       dim   len       acc\n",
       "0   5000.0   5.0  0.747899\n",
       "1   5000.0  15.0  0.748950\n",
       "2   5000.0  25.0  0.752626\n",
       "3   7500.0   5.0  0.755777\n",
       "4   7500.0  15.0  0.747374\n",
       "5   7500.0  25.0  0.756303\n",
       "6  10000.0   5.0  0.746324\n",
       "7  10000.0  15.0  0.756303\n",
       "8  10000.0  25.0  0.759979"
      ]
     },
     "execution_count": 21,
     "metadata": {},
     "output_type": "execute_result"
    }
   ],
   "source": [
    "param_tuning = pd.DataFrame(columns = ['dim', 'len', 'acc'])\n",
    "for dim in [5000,7500,10000]:\n",
    "    for inLen in [5,15,25]:\n",
    "        param_tuning.loc[len(param_tuning.index)] = hyperTest(dim, inLen)\n",
    "param_tuning"
   ]
  },
  {
   "cell_type": "markdown",
   "id": "8042cefe",
   "metadata": {
    "papermill": {
     "duration": 0.633185,
     "end_time": "2022-12-04T01:12:14.739777",
     "exception": false,
     "start_time": "2022-12-04T01:12:14.106592",
     "status": "completed"
    },
    "tags": []
   },
   "source": [
    "Overall the top model would be the GRU model with 10000 as the input dimensions and 5 as the input length. This model had an accuracy of 0.760. This model worked well because it had a smaller input length and a larger vocab, which allowed more granularity in the model itself.  I believe that adding or changing the architecture of the model itself may yield better results, but due to time constraints I will accept the model as is."
   ]
  },
  {
   "cell_type": "code",
   "execution_count": 22,
   "id": "71181fb4",
   "metadata": {
    "execution": {
     "iopub.execute_input": "2022-12-04T01:12:15.884320Z",
     "iopub.status.busy": "2022-12-04T01:12:15.883570Z",
     "iopub.status.idle": "2022-12-04T01:12:16.100278Z",
     "shell.execute_reply": "2022-12-04T01:12:16.098854Z"
    },
    "papermill": {
     "duration": 0.794319,
     "end_time": "2022-12-04T01:12:16.103061",
     "exception": false,
     "start_time": "2022-12-04T01:12:15.308742",
     "status": "completed"
    },
    "tags": []
   },
   "outputs": [],
   "source": [
    "textVectorizer = TextVectorization(max_tokens=5000,\n",
    "                                    output_mode=\"int\",\n",
    "                                    output_sequence_length=20)\n",
    "textVectorizer.adapt(test['text'])"
   ]
  },
  {
   "cell_type": "code",
   "execution_count": 23,
   "id": "71007795",
   "metadata": {
    "execution": {
     "iopub.execute_input": "2022-12-04T01:12:17.334054Z",
     "iopub.status.busy": "2022-12-04T01:12:17.333632Z",
     "iopub.status.idle": "2022-12-04T01:13:23.405140Z",
     "shell.execute_reply": "2022-12-04T01:13:23.403741Z"
    },
    "papermill": {
     "duration": 66.656941,
     "end_time": "2022-12-04T01:13:23.407947",
     "exception": false,
     "start_time": "2022-12-04T01:12:16.751006",
     "status": "completed"
    },
    "tags": []
   },
   "outputs": [
    {
     "name": "stdout",
     "output_type": "stream",
     "text": [
      "Epoch 1/10\n",
      "179/179 [==============================] - 10s 40ms/step - loss: 0.6330 - accuracy: 0.6229 - val_loss: 0.4808 - val_accuracy: 0.7894\n",
      "Epoch 2/10\n",
      "179/179 [==============================] - 6s 34ms/step - loss: 0.4132 - accuracy: 0.8229 - val_loss: 0.4379 - val_accuracy: 0.8136\n",
      "Epoch 3/10\n",
      "179/179 [==============================] - 6s 35ms/step - loss: 0.3328 - accuracy: 0.8648 - val_loss: 0.4729 - val_accuracy: 0.8009\n",
      "Epoch 4/10\n",
      "179/179 [==============================] - 6s 35ms/step - loss: 0.2855 - accuracy: 0.8923 - val_loss: 0.5244 - val_accuracy: 0.7883\n",
      "Epoch 5/10\n",
      "179/179 [==============================] - 6s 35ms/step - loss: 0.2486 - accuracy: 0.9059 - val_loss: 0.5390 - val_accuracy: 0.7862\n",
      "Epoch 6/10\n",
      "179/179 [==============================] - 7s 37ms/step - loss: 0.2042 - accuracy: 0.9305 - val_loss: 0.5970 - val_accuracy: 0.7652\n",
      "Epoch 7/10\n",
      "179/179 [==============================] - 6s 35ms/step - loss: 0.1707 - accuracy: 0.9389 - val_loss: 0.6540 - val_accuracy: 0.7742\n",
      "Epoch 8/10\n",
      "179/179 [==============================] - 6s 34ms/step - loss: 0.1445 - accuracy: 0.9464 - val_loss: 0.7826 - val_accuracy: 0.7642\n",
      "Epoch 9/10\n",
      "179/179 [==============================] - 6s 34ms/step - loss: 0.1151 - accuracy: 0.9599 - val_loss: 0.9968 - val_accuracy: 0.7595\n",
      "Epoch 10/10\n",
      "179/179 [==============================] - 6s 34ms/step - loss: 0.0986 - accuracy: 0.9594 - val_loss: 1.1287 - val_accuracy: 0.7537\n"
     ]
    }
   ],
   "source": [
    "gruEmbedding = layers.Embedding(input_dim=10000,\n",
    "                                     output_dim=128,\n",
    "                                     embeddings_initializer=\"uniform\",\n",
    "                                     input_length=5,\n",
    "                                     name=\"embedding_gru\")\n",
    "\n",
    "inputs = layers.Input(shape=(1,), dtype=\"string\")\n",
    "x = textVectorizer(inputs)\n",
    "x = gruEmbedding(x)\n",
    "x = layers.GRU(64)(x) \n",
    "outputs = layers.Dense(1, activation=\"sigmoid\")(x)\n",
    "gruModel = tf.keras.Model(inputs, outputs, name = \"final\")\n",
    "gruModel.compile(loss=\"binary_crossentropy\",\n",
    "                optimizer=tf.keras.optimizers.Adam(),\n",
    "                metrics=[\"accuracy\"])\n",
    "gruModelHist = gruModel.fit(X_train, y_train, epochs=10, validation_data=(X_val, y_val))"
   ]
  },
  {
   "cell_type": "code",
   "execution_count": 24,
   "id": "b13b1d58",
   "metadata": {
    "execution": {
     "iopub.execute_input": "2022-12-04T01:13:24.800010Z",
     "iopub.status.busy": "2022-12-04T01:13:24.799226Z",
     "iopub.status.idle": "2022-12-04T01:13:26.110194Z",
     "shell.execute_reply": "2022-12-04T01:13:26.109179Z"
    },
    "papermill": {
     "duration": 2.042344,
     "end_time": "2022-12-04T01:13:26.112651",
     "exception": false,
     "start_time": "2022-12-04T01:13:24.070307",
     "status": "completed"
    },
    "tags": []
   },
   "outputs": [],
   "source": [
    "# Preparation for model submission:\n",
    "test_prop = gruModel.predict(test['text'])\n",
    "test_pred = tf.squeeze(tf.round(test_prop))\n",
    "test_pred = test_pred.numpy()\n",
    "test_pred = test_pred.astype(int)\n",
    "\n",
    "submiss = pd.DataFrame({\"id\": test [\"id\"], \"target\": test_pred})\n",
    "\n",
    "submiss.to_csv('submission.csv', index=False)"
   ]
  },
  {
   "cell_type": "code",
   "execution_count": null,
   "id": "ea95c4bc",
   "metadata": {
    "papermill": {
     "duration": 0.698021,
     "end_time": "2022-12-04T01:13:27.443799",
     "exception": false,
     "start_time": "2022-12-04T01:13:26.745778",
     "status": "completed"
    },
    "tags": []
   },
   "outputs": [],
   "source": []
  },
  {
   "cell_type": "markdown",
   "id": "8782eb01",
   "metadata": {
    "papermill": {
     "duration": 0.62982,
     "end_time": "2022-12-04T01:13:28.706098",
     "exception": false,
     "start_time": "2022-12-04T01:13:28.076278",
     "status": "completed"
    },
    "tags": []
   },
   "source": [
    "## Conclusion\n",
    "\n",
    "Based on the training and tuning, I was able to create a GRU model that had an accuracy of 0.760. Both my screenshot of the competition results as well as the github link in the submission file on Coursera. The main thing that hepled the performance of my models was changing the number of input dimensions, though admittedly all the models I tested were very close when it came to performance. In the future, changing the architecture of the model itself may have yielded improved results, as well as a more extensive gird search cross validation of the hyper-parameters. I also think that there is room to exclude certain other words in the corpus, as I probably didn't do enough cleaning for my first time doing a major NLP project."
   ]
  },
  {
   "cell_type": "code",
   "execution_count": null,
   "id": "126248ab",
   "metadata": {
    "papermill": {
     "duration": 0.632101,
     "end_time": "2022-12-04T01:13:30.023874",
     "exception": false,
     "start_time": "2022-12-04T01:13:29.391773",
     "status": "completed"
    },
    "tags": []
   },
   "outputs": [],
   "source": []
  }
 ],
 "metadata": {
  "kernelspec": {
   "display_name": "Python 3",
   "language": "python",
   "name": "python3"
  },
  "language_info": {
   "codemirror_mode": {
    "name": "ipython",
    "version": 3
   },
   "file_extension": ".py",
   "mimetype": "text/x-python",
   "name": "python",
   "nbconvert_exporter": "python",
   "pygments_lexer": "ipython3",
   "version": "3.7.12"
  },
  "papermill": {
   "default_parameters": {},
   "duration": 781.868551,
   "end_time": "2022-12-04T01:13:34.087618",
   "environment_variables": {},
   "exception": null,
   "input_path": "__notebook__.ipynb",
   "output_path": "__notebook__.ipynb",
   "parameters": {},
   "start_time": "2022-12-04T01:00:32.219067",
   "version": "2.3.4"
  }
 },
 "nbformat": 4,
 "nbformat_minor": 5
}
